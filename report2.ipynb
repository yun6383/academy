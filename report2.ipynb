{
  "nbformat": 4,
  "nbformat_minor": 0,
  "metadata": {
    "colab": {
      "name": "report2.ipynb",
      "provenance": [],
      "collapsed_sections": [],
      "authorship_tag": "ABX9TyPrSyMk1nJZdJUNUnrwGY5g",
      "include_colab_link": true
    },
    "kernelspec": {
      "name": "python3",
      "display_name": "Python 3"
    }
  },
  "cells": [
    {
      "cell_type": "markdown",
      "metadata": {
        "id": "view-in-github",
        "colab_type": "text"
      },
      "source": [
        "<a href=\"https://colab.research.google.com/github/yun6383/academy/blob/master/report2.ipynb\" target=\"_parent\"><img src=\"https://colab.research.google.com/assets/colab-badge.svg\" alt=\"Open In Colab\"/></a>"
      ]
    },
    {
      "cell_type": "code",
      "metadata": {
        "id": "PiYWjSRWcAEd",
        "colab_type": "code",
        "outputId": "5c65d9a6-42ca-425d-d0d4-e16fbc65eddd",
        "colab": {
          "base_uri": "https://localhost:8080/",
          "height": 35
        }
      },
      "source": [
        "# 1번 문제\n",
        "# 주어진 변수(a, b, c) 직접 수정불가\n",
        "a = 'str'\n",
        "b = 123\n",
        "c = True\n",
        "\n",
        "\n",
        "type(a), type(b), type(c)"
      ],
      "execution_count": 0,
      "outputs": [
        {
          "output_type": "execute_result",
          "data": {
            "text/plain": [
              "(str, int, bool)"
            ]
          },
          "metadata": {
            "tags": []
          },
          "execution_count": 1
        }
      ]
    },
    {
      "cell_type": "code",
      "metadata": {
        "id": "0jg_WTFVcGtC",
        "colab_type": "code",
        "outputId": "c3bd01f2-0284-4dbd-fa1e-834305e1d23e",
        "colab": {
          "base_uri": "https://localhost:8080/",
          "height": 35
        }
      },
      "source": [
        "# 2번 문제\n",
        "# 주어진 변수(num_list) 직접 수정 불가\n",
        "# for문을 사용 하지 않은 경우 오답처리\n",
        "num_list = [1,2,3,4,5,6,7,8,9]\n",
        "answer = 0\n",
        "for i in num_list:\n",
        "  answer += i\n",
        "print(answer)"
      ],
      "execution_count": 0,
      "outputs": [
        {
          "output_type": "stream",
          "text": [
            "45\n"
          ],
          "name": "stdout"
        }
      ]
    },
    {
      "cell_type": "code",
      "metadata": {
        "id": "tVv3kzyqdnoi",
        "colab_type": "code",
        "outputId": "4bd322db-d86e-4470-b9da-7e4b737a1d12",
        "colab": {
          "base_uri": "https://localhost:8080/",
          "height": 35
        }
      },
      "source": [
        "# 3번 문제\n",
        "# 주어진 변수(date)만 직접 수정불가, 다른 year, month, day 변수는 직접 수정가능\n",
        "# 슬라이스를 사용 안 할 경우 오답처리\n",
        "date = '20200511'\n",
        "\n",
        "year = None\n",
        "month = None\n",
        "day = None\n",
        "year = date[:4]\n",
        "month = date[4:6]\n",
        "day = date[6:]\n",
        "print(year, month, day)"
      ],
      "execution_count": 0,
      "outputs": [
        {
          "output_type": "stream",
          "text": [
            "2020 05 11\n"
          ],
          "name": "stdout"
        }
      ]
    },
    {
      "cell_type": "code",
      "metadata": {
        "id": "-l0PcZiCofwG",
        "colab_type": "code",
        "outputId": "e02f4697-28f6-4776-e024-0dbda7b38b3f",
        "colab": {
          "base_uri": "https://localhost:8080/",
          "height": 35
        }
      },
      "source": [
        "# 4번 문제\n",
        "# 주어진 변수(summary) 직접 수정불가\n",
        "summary = 0\n",
        "i = 0\n",
        "while(i<=100):\n",
        "  summary += i\n",
        "  i += 1\n",
        "print(summary)"
      ],
      "execution_count": 0,
      "outputs": [
        {
          "output_type": "stream",
          "text": [
            "5050\n"
          ],
          "name": "stdout"
        }
      ]
    },
    {
      "cell_type": "code",
      "metadata": {
        "id": "bYzqkt0IpNcz",
        "colab_type": "code",
        "outputId": "8458d872-7773-441d-cdc4-eb664338dadf",
        "colab": {
          "base_uri": "https://localhost:8080/",
          "height": 35
        }
      },
      "source": [
        "# 5번 문제\n",
        "# 주어진 변수(hangul) 직접 수정불가\n",
        "hangul = '가나다라마바사'\n",
        "reverse_hangul = ''\n",
        "for i in hangul:\n",
        "  reverse_hangul = i + reverse_hangul\n",
        "print(reverse_hangul)"
      ],
      "execution_count": 0,
      "outputs": [
        {
          "output_type": "stream",
          "text": [
            "사바마라다나가\n"
          ],
          "name": "stdout"
        }
      ]
    },
    {
      "cell_type": "code",
      "metadata": {
        "id": "6K6UUfovqsDl",
        "colab_type": "code",
        "outputId": "4203f6a8-e95c-4925-da03-359849003245",
        "colab": {
          "base_uri": "https://localhost:8080/",
          "height": 35
        }
      },
      "source": [
        "# 6번 문제\n",
        "# 주어진 변수(num) 직접 수정불가\n",
        "num = \"70 50 90 70\"\n",
        "num_list = num.split(\" \")\n",
        "num_int = list(map(int, num_list))\n",
        "print( sum(num_int)/len(num_int))"
      ],
      "execution_count": 0,
      "outputs": [
        {
          "output_type": "stream",
          "text": [
            "70.0\n"
          ],
          "name": "stdout"
        }
      ]
    },
    {
      "cell_type": "code",
      "metadata": {
        "id": "sLDeyamqrS3E",
        "colab_type": "code",
        "outputId": "1123dfbc-6122-4944-8482-ff9a66c85c88",
        "colab": {
          "base_uri": "https://localhost:8080/",
          "height": 35
        }
      },
      "source": [
        "# 8번 문제\n",
        "list_08 = [3, 4]\n",
        "i = 0\n",
        "import math\n",
        "a = (list_08[i])**2 + (list_08[i+1])**2\n",
        "b = math.sqrt(a)\n",
        "print(b)"
      ],
      "execution_count": 0,
      "outputs": [
        {
          "output_type": "stream",
          "text": [
            "5.0\n"
          ],
          "name": "stdout"
        }
      ]
    },
    {
      "cell_type": "code",
      "metadata": {
        "id": "GdHrnwyb2QzB",
        "colab_type": "code",
        "outputId": "8a8672df-6787-4ac3-b897-e2c16ea8a5fb",
        "colab": {
          "base_uri": "https://localhost:8080/",
          "height": 53
        }
      },
      "source": [
        "# 9번 문제\n",
        "# 함수(prime_number) 직접 수정가능\n",
        "num_10 = int(input('숫자를 입력해주세요'))\n",
        "\n",
        "def prime_number(n: int) -> bool:\n",
        "    if n < 2 : \n",
        "        return False\n",
        "    for i in range(2, n):\n",
        "      if n% i is 0:\n",
        "         return False\n",
        "    return True\n",
        "if prime_number(num_10):\n",
        "  print(num_10, \"은 소수입니다\")\n",
        "else:\n",
        "  print(num_10, \"은 소수가 아닙니다\")"
      ],
      "execution_count": 0,
      "outputs": [
        {
          "output_type": "stream",
          "text": [
            "숫자를 입력해주세요26\n",
            "26 은 소수가 아닙니다\n"
          ],
          "name": "stdout"
        }
      ]
    },
    {
      "cell_type": "code",
      "metadata": {
        "id": "qr5sBflS6hKI",
        "colab_type": "code",
        "colab": {}
      },
      "source": [
        "#인공지능 수학문제 1번\n",
        "#W = 3\n",
        "#x = 10\n",
        "#b = 1\n",
        "#h(x)=Wx+b"
      ],
      "execution_count": 0,
      "outputs": []
    }
  ]
}